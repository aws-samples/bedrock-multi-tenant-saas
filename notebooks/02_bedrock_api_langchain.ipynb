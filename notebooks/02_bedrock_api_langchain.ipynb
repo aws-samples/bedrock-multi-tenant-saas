{
 "cells": [
  {
   "cell_type": "markdown",
   "id": "d0916a3a-e402-48b7-a775-ce739e4aeaf4",
   "metadata": {},
   "source": [
    "# Amazon Bedrock - API Gateway invocation with Langchain"
   ]
  },
  {
   "cell_type": "markdown",
   "source": [
    "## Install requirements"
   ],
   "metadata": {
    "collapsed": false
   }
  },
  {
   "cell_type": "code",
   "execution_count": null,
   "outputs": [],
   "source": [
    "%pip install -q langchain==0.0.340"
   ],
   "metadata": {
    "collapsed": false,
    "ExecuteTime": {
     "start_time": "2023-11-27T09:38:07.242800Z",
     "end_time": "2023-11-27T09:38:08.929510Z"
    }
   }
  },
  {
   "cell_type": "markdown",
   "id": "4c1fda97-9150-484a-8cfa-86ec9568fc61",
   "metadata": {},
   "source": [
    "### Setup Environment\n",
    "\n",
    "We are going to invoke Amazon API Gateway through `langchain`"
   ]
  },
  {
   "cell_type": "code",
   "execution_count": null,
   "id": "01dfcb38",
   "metadata": {
    "ExecuteTime": {
     "start_time": "2023-11-27T09:38:15.413551Z",
     "end_time": "2023-11-27T09:38:16.896294Z"
    }
   },
   "outputs": [],
   "source": [
    "from langchain.chains import LLMChain\n",
    "from langchain.llms.amazon_api_gateway import AmazonAPIGateway\n",
    "from langchain.prompts import PromptTemplate"
   ]
  },
  {
   "cell_type": "markdown",
   "source": [
    "### Setting up API Url"
   ],
   "metadata": {
    "collapsed": false
   }
  },
  {
   "cell_type": "code",
   "execution_count": null,
   "outputs": [],
   "source": [
    "api_url = \"<API_URL>\"\n",
    "api_key = \"<API_KEY>\"\n",
    "team_id = \"<TEAM_ID>\""
   ],
   "metadata": {
    "collapsed": false,
    "ExecuteTime": {
     "start_time": "2023-11-27T09:38:16.896880Z",
     "end_time": "2023-11-27T09:38:16.898649Z"
    }
   }
  },
  {
   "cell_type": "markdown",
   "source": [
    "### Define Default Prompt"
   ],
   "metadata": {
    "collapsed": false
   }
  },
  {
   "cell_type": "code",
   "execution_count": null,
   "outputs": [],
   "source": [
    "PROMPT_DEFAULT = PromptTemplate(\n",
    "    template=\"{question}\", input_variables=[\"question\"]\n",
    ")"
   ],
   "metadata": {
    "collapsed": false,
    "ExecuteTime": {
     "start_time": "2023-11-27T09:38:32.308546Z",
     "end_time": "2023-11-27T09:38:32.315602Z"
    }
   }
  },
  {
   "cell_type": "markdown",
   "source": [
    "### Amazon Titan Text Express"
   ],
   "metadata": {
    "collapsed": false
   }
  },
  {
   "cell_type": "code",
   "execution_count": null,
   "outputs": [],
   "source": [
    "model_id = \"amazon.titan-text-express-v1\"\n",
    "\n",
    "model_kwargs = {\n",
    "    \"maxTokenCount\": 4096,\n",
    "    \"temperature\": 0.2\n",
    "}\n",
    "\n",
    "prompt = \"What is Amazon Bedrock?\""
   ],
   "metadata": {
    "collapsed": false,
    "ExecuteTime": {
     "start_time": "2023-10-10T14:15:50.548002Z",
     "end_time": "2023-10-10T14:15:50.552838Z"
    }
   }
  },
  {
   "cell_type": "code",
   "execution_count": null,
   "outputs": [],
   "source": [
    "llm = AmazonAPIGateway(\n",
    "    api_url=f\"{api_url}/invoke_model?model_id={model_id}\",\n",
    "    headers={\n",
    "        \"x-api-key\": api_key,\n",
    "        \"team_id\": team_id\n",
    "    },\n",
    "    model_kwargs=model_kwargs\n",
    ")\n",
    "\n",
    "chain = LLMChain(\n",
    "    llm=llm,\n",
    "    prompt=PROMPT_DEFAULT,\n",
    "    verbose=True\n",
    ")"
   ],
   "metadata": {
    "collapsed": false,
    "ExecuteTime": {
     "start_time": "2023-09-22T18:38:47.154607Z",
     "end_time": "2023-09-22T18:38:47.160205Z"
    }
   }
  },
  {
   "cell_type": "code",
   "execution_count": null,
   "outputs": [],
   "source": [
    "response = chain.predict(question=prompt)\n",
    "\n",
    "# Print response\n",
    "print(response)"
   ],
   "metadata": {
    "collapsed": false,
    "ExecuteTime": {
     "start_time": "2023-09-22T18:38:48.280758Z",
     "end_time": "2023-09-22T18:38:51.208332Z"
    }
   }
  },
  {
   "cell_type": "markdown",
   "source": [
    "### Amazon Titan Text Express - Streaming"
   ],
   "metadata": {
    "collapsed": false
   }
  },
  {
   "cell_type": "code",
   "execution_count": null,
   "outputs": [],
   "source": [
    "from langchain.callbacks.manager import CallbackManagerForLLMRun\n",
    "from langchain.llms.amazon_api_gateway import AmazonAPIGateway\n",
    "from langchain.llms.utils import enforce_stop_tokens\n",
    "import requests\n",
    "import time\n",
    "from typing import Any, List, Optional\n",
    "\n",
    "class AmazonAPIGatewayExtended(AmazonAPIGateway):\n",
    "    streaming: bool = False\n",
    "    polling_wait: int = 2\n",
    "\n",
    "    def _call(\n",
    "        self,\n",
    "        prompt: str,\n",
    "        stop: Optional[List[str]] = None,\n",
    "        run_manager: Optional[CallbackManagerForLLMRun] = None,\n",
    "        **kwargs: Any,\n",
    "    ) -> str:\n",
    "        \"\"\"Call out to Amazon API Gateway model.\n",
    "\n",
    "                Args:\n",
    "                    prompt: The prompt to pass into the model.\n",
    "                    stop: Optional list of stop words to use when generating.\n",
    "\n",
    "                Returns:\n",
    "                    The string generated by the model.\n",
    "\n",
    "                Example:\n",
    "                    .. code-block:: python\n",
    "\n",
    "                        response = se(\"Tell me a joke.\")\n",
    "                \"\"\"\n",
    "        _model_kwargs = self.model_kwargs or {}\n",
    "        payload = self.content_handler.transform_input(prompt, _model_kwargs)\n",
    "\n",
    "        try:\n",
    "            response = requests.post(\n",
    "                self.api_url,\n",
    "                headers=self.headers,\n",
    "                json=payload,\n",
    "            )\n",
    "            if not self.streaming:\n",
    "                text = self.content_handler.transform_output(response)\n",
    "            else:\n",
    "                request_id = response.json()[0][\"request_id\"]\n",
    "\n",
    "                start_time = time.time()\n",
    "                max_time = 120\n",
    "\n",
    "                while (time.time() - start_time) < max_time:\n",
    "                    response = requests.post(\n",
    "                        self.api_url + f\"&requestId={request_id}\",\n",
    "                        headers=self.headers,\n",
    "                        json={},\n",
    "                    )\n",
    "\n",
    "                    if \"generated_text\" in response.json()[0]:\n",
    "                        break\n",
    "\n",
    "                    time.sleep(self.polling_wait)\n",
    "\n",
    "                text = self.content_handler.transform_output(response)\n",
    "\n",
    "        except Exception as error:\n",
    "            raise ValueError(f\"Error raised by the service: {error}\")\n",
    "\n",
    "        if stop is not None:\n",
    "            text = enforce_stop_tokens(text, stop)\n",
    "\n",
    "        if response.status_code != 200:\n",
    "            raise Exception(text)\n",
    "\n",
    "        return text"
   ],
   "metadata": {
    "collapsed": false
   }
  },
  {
   "cell_type": "code",
   "execution_count": null,
   "outputs": [],
   "source": [
    "model_id = \"amazon.titan-text-express-v1\"\n",
    "\n",
    "model_kwargs = {\n",
    "    \"maxTokenCount\": 4096,\n",
    "    \"temperature\": 0.2\n",
    "}\n",
    "\n",
    "prompt = \"What is Amazon Bedrock?\""
   ],
   "metadata": {
    "collapsed": false
   }
  },
  {
   "cell_type": "code",
   "execution_count": null,
   "outputs": [],
   "source": [
    "llm = AmazonAPIGatewayExtended(\n",
    "    api_url=f\"{api_url}/invoke_model?model_id={model_id}\",\n",
    "    headers={\n",
    "        \"x-api-key\": api_key,\n",
    "        \"team_id\": team_id,\n",
    "        \"streaming\": \"true\"\n",
    "    },\n",
    "    model_kwargs=model_kwargs,\n",
    "    streaming=True\n",
    ")\n",
    "\n",
    "chain = LLMChain(\n",
    "    llm=llm,\n",
    "    prompt=PROMPT_DEFAULT,\n",
    "    verbose=True\n",
    ")"
   ],
   "metadata": {
    "collapsed": false
   }
  },
  {
   "cell_type": "code",
   "execution_count": null,
   "outputs": [],
   "source": [
    "response = chain.predict(question=prompt)\n",
    "\n",
    "# Print response\n",
    "print(response)"
   ],
   "metadata": {
    "collapsed": false
   }
  },
  {
   "cell_type": "markdown",
   "source": [
    "### Amazon Titan Embeddings"
   ],
   "metadata": {
    "collapsed": false
   }
  },
  {
   "cell_type": "code",
   "execution_count": null,
   "outputs": [],
   "source": [
    "from langchain.embeddings.bedrock import Embeddings\n",
    "import requests\n",
    "from typing import List\n",
    "\n",
    "class AmazonAPIGatewayEmbeddings(Embeddings):\n",
    "    def __init__(self, api_url, headers):\n",
    "        self.api_url = api_url\n",
    "        self.headers = headers\n",
    "\n",
    "    def embed_documents(self, texts: List[str], parameters: dict = {}) -> List[List[float]]:\n",
    "        results = []\n",
    "        for text in texts:\n",
    "            response = requests.post(\n",
    "                self.api_url,\n",
    "                json={\"inputs\": text, \"parameters\": parameters},\n",
    "                headers=self.headers\n",
    "            )\n",
    "            results.append(response.json()[0][\"embedding\"])\n",
    "\n",
    "        return results\n",
    "\n",
    "    def embed_query(self, text: str, parameters: dict = {}) -> List[float]:\n",
    "        response = requests.post(\n",
    "                self.api_url,\n",
    "                json={\"inputs\": text, \"parameters\": parameters},\n",
    "                headers=self.headers\n",
    "            )\n",
    "\n",
    "        return response.json()[0][\"embedding\"]"
   ],
   "metadata": {
    "collapsed": false,
    "ExecuteTime": {
     "start_time": "2023-11-27T09:40:01.952043Z",
     "end_time": "2023-11-27T09:40:01.956885Z"
    }
   }
  },
  {
   "cell_type": "code",
   "execution_count": null,
   "outputs": [],
   "source": [
    "model_id = \"amazon.titan-embed-text-v1\"\n",
    "\n",
    "prompt = \"\"\"\n",
    "What is Amazon Bedrock?\"\n",
    "\"\"\""
   ],
   "metadata": {
    "collapsed": false,
    "ExecuteTime": {
     "start_time": "2023-11-27T09:40:09.870563Z",
     "end_time": "2023-11-27T09:40:09.886714Z"
    }
   }
  },
  {
   "cell_type": "code",
   "execution_count": null,
   "outputs": [],
   "source": [
    "embeddings = AmazonAPIGatewayEmbeddings(\n",
    "    api_url=f\"{api_url}/invoke_model?model_id={model_id}\",\n",
    "    headers={\n",
    "        \"x-api-key\": api_key,\n",
    "        \"team_id\": team_id,\n",
    "        \"type\": \"embeddings\"\n",
    "    }\n",
    ")"
   ],
   "metadata": {
    "collapsed": false,
    "ExecuteTime": {
     "start_time": "2023-11-27T09:40:12.625917Z",
     "end_time": "2023-11-27T09:40:12.629954Z"
    }
   }
  },
  {
   "cell_type": "code",
   "execution_count": null,
   "outputs": [],
   "source": [
    "embeddings.embed_query(prompt)"
   ],
   "metadata": {
    "collapsed": false,
    "ExecuteTime": {
     "start_time": "2023-11-27T09:40:14.264928Z",
     "end_time": "2023-11-27T09:40:15.185863Z"
    }
   }
  },
  {
   "cell_type": "markdown",
   "source": [
    "### Anthropic Claude"
   ],
   "metadata": {
    "collapsed": false
   }
  },
  {
   "cell_type": "code",
   "execution_count": null,
   "outputs": [],
   "source": [
    "model_id = \"anthropic.claude-v2\"\n",
    "\n",
    "model_kwargs = {\n",
    "    \"max_tokens_to_sample\": 4096,\n",
    "    \"temperature\": 0.2\n",
    "}\n",
    "\n",
    "prompt = \"\"\"\n",
    "What is Amazon Bedrock?\"\n",
    "\"\"\""
   ],
   "metadata": {
    "collapsed": false,
    "ExecuteTime": {
     "start_time": "2023-10-21T18:10:16.862978Z",
     "end_time": "2023-10-21T18:10:16.883887Z"
    }
   }
  },
  {
   "cell_type": "code",
   "execution_count": null,
   "outputs": [],
   "source": [
    "llm = AmazonAPIGateway(\n",
    "    api_url=f\"{api_url}/invoke_model?model_id={model_id}\",\n",
    "    headers={\n",
    "        \"x-api-key\": api_key,\n",
    "        \"team_id\": team_id\n",
    "    },\n",
    "    model_kwargs=model_kwargs\n",
    ")\n",
    "\n",
    "chain = LLMChain(\n",
    "    llm=llm,\n",
    "    prompt=PROMPT_DEFAULT,\n",
    "    verbose=True\n",
    ")"
   ],
   "metadata": {
    "collapsed": false,
    "ExecuteTime": {
     "start_time": "2023-10-21T18:10:17.434168Z",
     "end_time": "2023-10-21T18:10:17.441281Z"
    }
   }
  },
  {
   "cell_type": "code",
   "execution_count": null,
   "outputs": [],
   "source": [
    "response = chain.predict(question=prompt)\n",
    "\n",
    "# Print response\n",
    "print(response)"
   ],
   "metadata": {
    "collapsed": false,
    "ExecuteTime": {
     "start_time": "2023-10-21T18:10:18.542450Z",
     "end_time": "2023-10-21T18:10:37.673439Z"
    }
   }
  },
  {
   "cell_type": "markdown",
   "source": [
    "### Amazon Claude - Streaming"
   ],
   "metadata": {
    "collapsed": false
   }
  },
  {
   "cell_type": "code",
   "execution_count": null,
   "outputs": [],
   "source": [
    "from langchain.callbacks.manager import CallbackManagerForLLMRun\n",
    "from langchain.llms.amazon_api_gateway import AmazonAPIGateway\n",
    "from langchain.llms.utils import enforce_stop_tokens\n",
    "import requests\n",
    "import time\n",
    "from typing import Any, List, Optional\n",
    "\n",
    "class AmazonAPIGatewayExtended(AmazonAPIGateway):\n",
    "    streaming: bool = False\n",
    "    polling_wait: int = 2\n",
    "\n",
    "    def _call(\n",
    "        self,\n",
    "        prompt: str,\n",
    "        stop: Optional[List[str]] = None,\n",
    "        run_manager: Optional[CallbackManagerForLLMRun] = None,\n",
    "        **kwargs: Any,\n",
    "    ) -> str:\n",
    "        \"\"\"Call out to Amazon API Gateway model.\n",
    "\n",
    "                Args:\n",
    "                    prompt: The prompt to pass into the model.\n",
    "                    stop: Optional list of stop words to use when generating.\n",
    "\n",
    "                Returns:\n",
    "                    The string generated by the model.\n",
    "\n",
    "                Example:\n",
    "                    .. code-block:: python\n",
    "\n",
    "                        response = se(\"Tell me a joke.\")\n",
    "                \"\"\"\n",
    "        _model_kwargs = self.model_kwargs or {}\n",
    "        payload = self.content_handler.transform_input(prompt, _model_kwargs)\n",
    "\n",
    "        try:\n",
    "            response = requests.post(\n",
    "                self.api_url,\n",
    "                headers=self.headers,\n",
    "                json=payload,\n",
    "            )\n",
    "            if not self.streaming:\n",
    "                text = self.content_handler.transform_output(response)\n",
    "            else:\n",
    "                request_id = response.json()[0][\"request_id\"]\n",
    "\n",
    "                start_time = time.time()\n",
    "                max_time = 120\n",
    "\n",
    "                while (time.time() - start_time) < max_time:\n",
    "                    response = requests.post(\n",
    "                        self.api_url + f\"&requestId={request_id}\",\n",
    "                        headers=self.headers,\n",
    "                        json={},\n",
    "                    )\n",
    "\n",
    "                    if \"generated_text\" in response.json()[0]:\n",
    "                        break\n",
    "\n",
    "                    time.sleep(self.polling_wait)\n",
    "\n",
    "                text = self.content_handler.transform_output(response)\n",
    "\n",
    "        except Exception as error:\n",
    "            raise ValueError(f\"Error raised by the service: {error}\")\n",
    "\n",
    "        if stop is not None:\n",
    "            text = enforce_stop_tokens(text, stop)\n",
    "\n",
    "        if response.status_code != 200:\n",
    "            raise Exception(text)\n",
    "\n",
    "        return text"
   ],
   "metadata": {
    "collapsed": false
   }
  },
  {
   "cell_type": "code",
   "execution_count": null,
   "outputs": [],
   "source": [
    "model_id = \"anthropic.claude-v2\"\n",
    "\n",
    "model_kwargs = {\n",
    "    \"max_tokens_to_sample\": 4096,\n",
    "    \"temperature\": 0.2\n",
    "}\n",
    "\n",
    "prompt = \"\"\"\n",
    "What is Amazon Bedrock?\"\n",
    "\"\"\""
   ],
   "metadata": {
    "collapsed": false
   }
  },
  {
   "cell_type": "code",
   "execution_count": null,
   "outputs": [],
   "source": [
    "llm = AmazonAPIGatewayExtended(\n",
    "    api_url=f\"{api_url}/invoke_model?model_id={model_id}\",\n",
    "    headers={\n",
    "        \"x-api-key\": api_key,\n",
    "        \"team_id\": team_id,\n",
    "        \"streaming\": \"true\"\n",
    "    },\n",
    "    model_kwargs=model_kwargs,\n",
    "    streaming=True\n",
    ")\n",
    "\n",
    "chain = LLMChain(\n",
    "    llm=llm,\n",
    "    prompt=PROMPT_DEFAULT,\n",
    "    verbose=True\n",
    ")"
   ],
   "metadata": {
    "collapsed": false
   }
  },
  {
   "cell_type": "code",
   "execution_count": null,
   "outputs": [],
   "source": [
    "response = chain.predict(question=prompt)\n",
    "\n",
    "# Print response\n",
    "print(response)"
   ],
   "metadata": {
    "collapsed": false
   }
  },
  {
   "cell_type": "markdown",
   "source": [
    "### AI21 Jurassic"
   ],
   "metadata": {
    "collapsed": false
   }
  },
  {
   "cell_type": "code",
   "execution_count": null,
   "outputs": [],
   "source": [
    "model_id = \"ai21.j2-ultra\"\n",
    "\n",
    "model_kwargs = {\n",
    "    \"maxTokens\": 4096,\n",
    "    \"temperature\": 0.2\n",
    "}\n",
    "\n",
    "prompt = \"\"\"\n",
    "What is Amazon Bedrock?\"\n",
    "\"\"\""
   ],
   "metadata": {
    "collapsed": false,
    "ExecuteTime": {
     "start_time": "2023-10-21T18:10:37.675051Z",
     "end_time": "2023-10-21T18:10:37.676871Z"
    }
   }
  },
  {
   "cell_type": "code",
   "execution_count": null,
   "outputs": [],
   "source": [
    "llm = AmazonAPIGateway(\n",
    "    api_url=f\"{api_url}/invoke_model?model_id={model_id}\",\n",
    "    headers={\n",
    "        \"x-api-key\": api_key,\n",
    "        \"team_id\": team_id\n",
    "    },\n",
    "    model_kwargs=model_kwargs\n",
    ")\n",
    "\n",
    "chain = LLMChain(\n",
    "    llm=llm,\n",
    "    prompt=PROMPT_DEFAULT,\n",
    "    verbose=True\n",
    ")"
   ],
   "metadata": {
    "collapsed": false,
    "ExecuteTime": {
     "start_time": "2023-10-21T18:10:37.679545Z",
     "end_time": "2023-10-21T18:10:37.683798Z"
    }
   }
  },
  {
   "cell_type": "code",
   "execution_count": null,
   "outputs": [],
   "source": [
    "response = chain.predict(question=prompt)\n",
    "\n",
    "# Print response\n",
    "print(response)"
   ],
   "metadata": {
    "collapsed": false,
    "ExecuteTime": {
     "start_time": "2023-10-21T18:10:37.683965Z",
     "end_time": "2023-10-21T18:10:41.322877Z"
    }
   }
  },
  {
   "cell_type": "markdown",
   "source": [
    "### Cohere Command"
   ],
   "metadata": {
    "collapsed": false
   }
  },
  {
   "cell_type": "code",
   "execution_count": null,
   "outputs": [],
   "source": [
    "model_id = \"cohere.command-text-v14\"\n",
    "\n",
    "model_kwargs = {\n",
    "    \"max_tokens\": 4000,\n",
    "    \"temperature\": 0.2\n",
    "}\n",
    "\n",
    "prompt = \"\"\"\n",
    "What is Amazon Bedrock?\"\n",
    "\"\"\""
   ],
   "metadata": {
    "collapsed": false,
    "ExecuteTime": {
     "start_time": "2023-11-27T09:38:36.354278Z",
     "end_time": "2023-11-27T09:38:36.362183Z"
    }
   }
  },
  {
   "cell_type": "code",
   "execution_count": null,
   "outputs": [],
   "source": [
    "llm = AmazonAPIGateway(\n",
    "    api_url=f\"{api_url}/invoke_model?model_id={model_id}\",\n",
    "    headers={\n",
    "        \"x-api-key\": api_key,\n",
    "        \"team_id\": team_id\n",
    "    },\n",
    "    model_kwargs=model_kwargs\n",
    ")\n",
    "\n",
    "chain = LLMChain(\n",
    "    llm=llm,\n",
    "    prompt=PROMPT_DEFAULT,\n",
    "    verbose=True\n",
    ")"
   ],
   "metadata": {
    "collapsed": false,
    "ExecuteTime": {
     "start_time": "2023-11-27T09:38:36.840758Z",
     "end_time": "2023-11-27T09:38:36.846687Z"
    }
   }
  },
  {
   "cell_type": "code",
   "execution_count": null,
   "outputs": [],
   "source": [
    "response = chain.predict(question=prompt)\n",
    "\n",
    "# Print response\n",
    "print(response)"
   ],
   "metadata": {
    "collapsed": false,
    "ExecuteTime": {
     "start_time": "2023-11-27T09:38:40.009006Z",
     "end_time": "2023-11-27T09:38:51.699944Z"
    }
   }
  },
  {
   "cell_type": "markdown",
   "source": [
    "### Cohere Embed Multilingual"
   ],
   "metadata": {
    "collapsed": false
   }
  },
  {
   "cell_type": "code",
   "execution_count": null,
   "outputs": [],
   "source": [
    "from langchain.embeddings.bedrock import Embeddings\n",
    "import requests\n",
    "from typing import List\n",
    "\n",
    "class AmazonAPIGatewayEmbeddings(Embeddings):\n",
    "    def __init__(self, api_url, headers):\n",
    "        self.api_url = api_url\n",
    "        self.headers = headers\n",
    "\n",
    "    def embed_documents(self, texts: List[str], parameters: dict = {}) -> List[List[float]]:\n",
    "        results = []\n",
    "        for text in texts:\n",
    "            response = requests.post(\n",
    "                self.api_url,\n",
    "                json={\"inputs\": text, \"parameters\": parameters},\n",
    "                headers=self.headers\n",
    "            )\n",
    "            results.append(response.json()[0][\"embedding\"])\n",
    "\n",
    "        return results\n",
    "\n",
    "    def embed_query(self, text: str, parameters: dict = {}) -> List[float]:\n",
    "        response = requests.post(\n",
    "                self.api_url,\n",
    "                json={\"inputs\": text, \"parameters\": parameters},\n",
    "                headers=self.headers\n",
    "            )\n",
    "\n",
    "        return response.json()[0][\"embedding\"]"
   ],
   "metadata": {
    "collapsed": false,
    "ExecuteTime": {
     "start_time": "2023-11-27T09:52:44.051278Z",
     "end_time": "2023-11-27T09:52:44.061515Z"
    }
   }
  },
  {
   "cell_type": "code",
   "execution_count": null,
   "outputs": [],
   "source": [
    "model_id = \"cohere.embed-multilingual-v3\"\n",
    "\n",
    "model_kwargs = {\n",
    "    \"input_type\": \"search_document\"\n",
    "}\n",
    "\n",
    "prompt = \"\"\"\n",
    "What is Amazon Bedrock?\"\n",
    "\"\"\""
   ],
   "metadata": {
    "collapsed": false,
    "ExecuteTime": {
     "start_time": "2023-11-27T09:52:44.501685Z",
     "end_time": "2023-11-27T09:52:44.513859Z"
    }
   }
  },
  {
   "cell_type": "code",
   "execution_count": null,
   "outputs": [],
   "source": [
    "embeddings = AmazonAPIGatewayEmbeddings(\n",
    "    api_url=f\"{api_url}/invoke_model?model_id={model_id}\",\n",
    "    headers={\n",
    "        \"x-api-key\": api_key,\n",
    "        \"team_id\": team_id,\n",
    "        \"type\": \"embeddings\"\n",
    "    }\n",
    ")"
   ],
   "metadata": {
    "collapsed": false,
    "ExecuteTime": {
     "start_time": "2023-11-27T09:52:44.893053Z",
     "end_time": "2023-11-27T09:52:44.901974Z"
    }
   }
  },
  {
   "cell_type": "code",
   "execution_count": null,
   "outputs": [],
   "source": [
    "embeddings.embed_query(prompt)"
   ],
   "metadata": {
    "collapsed": false,
    "ExecuteTime": {
     "start_time": "2023-11-27T09:52:45.637312Z",
     "end_time": "2023-11-27T09:52:49.780143Z"
    }
   }
  }
 ],
 "metadata": {
  "availableInstances": [
   {
    "_defaultOrder": 0,
    "_isFastLaunch": true,
    "category": "General purpose",
    "gpuNum": 0,
    "hideHardwareSpecs": false,
    "memoryGiB": 4,
    "name": "ml.t3.medium",
    "vcpuNum": 2
   },
   {
    "_defaultOrder": 1,
    "_isFastLaunch": false,
    "category": "General purpose",
    "gpuNum": 0,
    "hideHardwareSpecs": false,
    "memoryGiB": 8,
    "name": "ml.t3.large",
    "vcpuNum": 2
   },
   {
    "_defaultOrder": 2,
    "_isFastLaunch": false,
    "category": "General purpose",
    "gpuNum": 0,
    "hideHardwareSpecs": false,
    "memoryGiB": 16,
    "name": "ml.t3.xlarge",
    "vcpuNum": 4
   },
   {
    "_defaultOrder": 3,
    "_isFastLaunch": false,
    "category": "General purpose",
    "gpuNum": 0,
    "hideHardwareSpecs": false,
    "memoryGiB": 32,
    "name": "ml.t3.2xlarge",
    "vcpuNum": 8
   },
   {
    "_defaultOrder": 4,
    "_isFastLaunch": true,
    "category": "General purpose",
    "gpuNum": 0,
    "hideHardwareSpecs": false,
    "memoryGiB": 8,
    "name": "ml.m5.large",
    "vcpuNum": 2
   },
   {
    "_defaultOrder": 5,
    "_isFastLaunch": false,
    "category": "General purpose",
    "gpuNum": 0,
    "hideHardwareSpecs": false,
    "memoryGiB": 16,
    "name": "ml.m5.xlarge",
    "vcpuNum": 4
   },
   {
    "_defaultOrder": 6,
    "_isFastLaunch": false,
    "category": "General purpose",
    "gpuNum": 0,
    "hideHardwareSpecs": false,
    "memoryGiB": 32,
    "name": "ml.m5.2xlarge",
    "vcpuNum": 8
   },
   {
    "_defaultOrder": 7,
    "_isFastLaunch": false,
    "category": "General purpose",
    "gpuNum": 0,
    "hideHardwareSpecs": false,
    "memoryGiB": 64,
    "name": "ml.m5.4xlarge",
    "vcpuNum": 16
   },
   {
    "_defaultOrder": 8,
    "_isFastLaunch": false,
    "category": "General purpose",
    "gpuNum": 0,
    "hideHardwareSpecs": false,
    "memoryGiB": 128,
    "name": "ml.m5.8xlarge",
    "vcpuNum": 32
   },
   {
    "_defaultOrder": 9,
    "_isFastLaunch": false,
    "category": "General purpose",
    "gpuNum": 0,
    "hideHardwareSpecs": false,
    "memoryGiB": 192,
    "name": "ml.m5.12xlarge",
    "vcpuNum": 48
   },
   {
    "_defaultOrder": 10,
    "_isFastLaunch": false,
    "category": "General purpose",
    "gpuNum": 0,
    "hideHardwareSpecs": false,
    "memoryGiB": 256,
    "name": "ml.m5.16xlarge",
    "vcpuNum": 64
   },
   {
    "_defaultOrder": 11,
    "_isFastLaunch": false,
    "category": "General purpose",
    "gpuNum": 0,
    "hideHardwareSpecs": false,
    "memoryGiB": 384,
    "name": "ml.m5.24xlarge",
    "vcpuNum": 96
   },
   {
    "_defaultOrder": 12,
    "_isFastLaunch": false,
    "category": "General purpose",
    "gpuNum": 0,
    "hideHardwareSpecs": false,
    "memoryGiB": 8,
    "name": "ml.m5d.large",
    "vcpuNum": 2
   },
   {
    "_defaultOrder": 13,
    "_isFastLaunch": false,
    "category": "General purpose",
    "gpuNum": 0,
    "hideHardwareSpecs": false,
    "memoryGiB": 16,
    "name": "ml.m5d.xlarge",
    "vcpuNum": 4
   },
   {
    "_defaultOrder": 14,
    "_isFastLaunch": false,
    "category": "General purpose",
    "gpuNum": 0,
    "hideHardwareSpecs": false,
    "memoryGiB": 32,
    "name": "ml.m5d.2xlarge",
    "vcpuNum": 8
   },
   {
    "_defaultOrder": 15,
    "_isFastLaunch": false,
    "category": "General purpose",
    "gpuNum": 0,
    "hideHardwareSpecs": false,
    "memoryGiB": 64,
    "name": "ml.m5d.4xlarge",
    "vcpuNum": 16
   },
   {
    "_defaultOrder": 16,
    "_isFastLaunch": false,
    "category": "General purpose",
    "gpuNum": 0,
    "hideHardwareSpecs": false,
    "memoryGiB": 128,
    "name": "ml.m5d.8xlarge",
    "vcpuNum": 32
   },
   {
    "_defaultOrder": 17,
    "_isFastLaunch": false,
    "category": "General purpose",
    "gpuNum": 0,
    "hideHardwareSpecs": false,
    "memoryGiB": 192,
    "name": "ml.m5d.12xlarge",
    "vcpuNum": 48
   },
   {
    "_defaultOrder": 18,
    "_isFastLaunch": false,
    "category": "General purpose",
    "gpuNum": 0,
    "hideHardwareSpecs": false,
    "memoryGiB": 256,
    "name": "ml.m5d.16xlarge",
    "vcpuNum": 64
   },
   {
    "_defaultOrder": 19,
    "_isFastLaunch": false,
    "category": "General purpose",
    "gpuNum": 0,
    "hideHardwareSpecs": false,
    "memoryGiB": 384,
    "name": "ml.m5d.24xlarge",
    "vcpuNum": 96
   },
   {
    "_defaultOrder": 20,
    "_isFastLaunch": false,
    "category": "General purpose",
    "gpuNum": 0,
    "hideHardwareSpecs": true,
    "memoryGiB": 0,
    "name": "ml.geospatial.interactive",
    "supportedImageNames": [
     "sagemaker-geospatial-v1-0"
    ],
    "vcpuNum": 0
   },
   {
    "_defaultOrder": 21,
    "_isFastLaunch": true,
    "category": "Compute optimized",
    "gpuNum": 0,
    "hideHardwareSpecs": false,
    "memoryGiB": 4,
    "name": "ml.c5.large",
    "vcpuNum": 2
   },
   {
    "_defaultOrder": 22,
    "_isFastLaunch": false,
    "category": "Compute optimized",
    "gpuNum": 0,
    "hideHardwareSpecs": false,
    "memoryGiB": 8,
    "name": "ml.c5.xlarge",
    "vcpuNum": 4
   },
   {
    "_defaultOrder": 23,
    "_isFastLaunch": false,
    "category": "Compute optimized",
    "gpuNum": 0,
    "hideHardwareSpecs": false,
    "memoryGiB": 16,
    "name": "ml.c5.2xlarge",
    "vcpuNum": 8
   },
   {
    "_defaultOrder": 24,
    "_isFastLaunch": false,
    "category": "Compute optimized",
    "gpuNum": 0,
    "hideHardwareSpecs": false,
    "memoryGiB": 32,
    "name": "ml.c5.4xlarge",
    "vcpuNum": 16
   },
   {
    "_defaultOrder": 25,
    "_isFastLaunch": false,
    "category": "Compute optimized",
    "gpuNum": 0,
    "hideHardwareSpecs": false,
    "memoryGiB": 72,
    "name": "ml.c5.9xlarge",
    "vcpuNum": 36
   },
   {
    "_defaultOrder": 26,
    "_isFastLaunch": false,
    "category": "Compute optimized",
    "gpuNum": 0,
    "hideHardwareSpecs": false,
    "memoryGiB": 96,
    "name": "ml.c5.12xlarge",
    "vcpuNum": 48
   },
   {
    "_defaultOrder": 27,
    "_isFastLaunch": false,
    "category": "Compute optimized",
    "gpuNum": 0,
    "hideHardwareSpecs": false,
    "memoryGiB": 144,
    "name": "ml.c5.18xlarge",
    "vcpuNum": 72
   },
   {
    "_defaultOrder": 28,
    "_isFastLaunch": false,
    "category": "Compute optimized",
    "gpuNum": 0,
    "hideHardwareSpecs": false,
    "memoryGiB": 192,
    "name": "ml.c5.24xlarge",
    "vcpuNum": 96
   },
   {
    "_defaultOrder": 29,
    "_isFastLaunch": true,
    "category": "Accelerated computing",
    "gpuNum": 1,
    "hideHardwareSpecs": false,
    "memoryGiB": 16,
    "name": "ml.g4dn.xlarge",
    "vcpuNum": 4
   },
   {
    "_defaultOrder": 30,
    "_isFastLaunch": false,
    "category": "Accelerated computing",
    "gpuNum": 1,
    "hideHardwareSpecs": false,
    "memoryGiB": 32,
    "name": "ml.g4dn.2xlarge",
    "vcpuNum": 8
   },
   {
    "_defaultOrder": 31,
    "_isFastLaunch": false,
    "category": "Accelerated computing",
    "gpuNum": 1,
    "hideHardwareSpecs": false,
    "memoryGiB": 64,
    "name": "ml.g4dn.4xlarge",
    "vcpuNum": 16
   },
   {
    "_defaultOrder": 32,
    "_isFastLaunch": false,
    "category": "Accelerated computing",
    "gpuNum": 1,
    "hideHardwareSpecs": false,
    "memoryGiB": 128,
    "name": "ml.g4dn.8xlarge",
    "vcpuNum": 32
   },
   {
    "_defaultOrder": 33,
    "_isFastLaunch": false,
    "category": "Accelerated computing",
    "gpuNum": 4,
    "hideHardwareSpecs": false,
    "memoryGiB": 192,
    "name": "ml.g4dn.12xlarge",
    "vcpuNum": 48
   },
   {
    "_defaultOrder": 34,
    "_isFastLaunch": false,
    "category": "Accelerated computing",
    "gpuNum": 1,
    "hideHardwareSpecs": false,
    "memoryGiB": 256,
    "name": "ml.g4dn.16xlarge",
    "vcpuNum": 64
   },
   {
    "_defaultOrder": 35,
    "_isFastLaunch": false,
    "category": "Accelerated computing",
    "gpuNum": 1,
    "hideHardwareSpecs": false,
    "memoryGiB": 61,
    "name": "ml.p3.2xlarge",
    "vcpuNum": 8
   },
   {
    "_defaultOrder": 36,
    "_isFastLaunch": false,
    "category": "Accelerated computing",
    "gpuNum": 4,
    "hideHardwareSpecs": false,
    "memoryGiB": 244,
    "name": "ml.p3.8xlarge",
    "vcpuNum": 32
   },
   {
    "_defaultOrder": 37,
    "_isFastLaunch": false,
    "category": "Accelerated computing",
    "gpuNum": 8,
    "hideHardwareSpecs": false,
    "memoryGiB": 488,
    "name": "ml.p3.16xlarge",
    "vcpuNum": 64
   },
   {
    "_defaultOrder": 38,
    "_isFastLaunch": false,
    "category": "Accelerated computing",
    "gpuNum": 8,
    "hideHardwareSpecs": false,
    "memoryGiB": 768,
    "name": "ml.p3dn.24xlarge",
    "vcpuNum": 96
   },
   {
    "_defaultOrder": 39,
    "_isFastLaunch": false,
    "category": "Memory Optimized",
    "gpuNum": 0,
    "hideHardwareSpecs": false,
    "memoryGiB": 16,
    "name": "ml.r5.large",
    "vcpuNum": 2
   },
   {
    "_defaultOrder": 40,
    "_isFastLaunch": false,
    "category": "Memory Optimized",
    "gpuNum": 0,
    "hideHardwareSpecs": false,
    "memoryGiB": 32,
    "name": "ml.r5.xlarge",
    "vcpuNum": 4
   },
   {
    "_defaultOrder": 41,
    "_isFastLaunch": false,
    "category": "Memory Optimized",
    "gpuNum": 0,
    "hideHardwareSpecs": false,
    "memoryGiB": 64,
    "name": "ml.r5.2xlarge",
    "vcpuNum": 8
   },
   {
    "_defaultOrder": 42,
    "_isFastLaunch": false,
    "category": "Memory Optimized",
    "gpuNum": 0,
    "hideHardwareSpecs": false,
    "memoryGiB": 128,
    "name": "ml.r5.4xlarge",
    "vcpuNum": 16
   },
   {
    "_defaultOrder": 43,
    "_isFastLaunch": false,
    "category": "Memory Optimized",
    "gpuNum": 0,
    "hideHardwareSpecs": false,
    "memoryGiB": 256,
    "name": "ml.r5.8xlarge",
    "vcpuNum": 32
   },
   {
    "_defaultOrder": 44,
    "_isFastLaunch": false,
    "category": "Memory Optimized",
    "gpuNum": 0,
    "hideHardwareSpecs": false,
    "memoryGiB": 384,
    "name": "ml.r5.12xlarge",
    "vcpuNum": 48
   },
   {
    "_defaultOrder": 45,
    "_isFastLaunch": false,
    "category": "Memory Optimized",
    "gpuNum": 0,
    "hideHardwareSpecs": false,
    "memoryGiB": 512,
    "name": "ml.r5.16xlarge",
    "vcpuNum": 64
   },
   {
    "_defaultOrder": 46,
    "_isFastLaunch": false,
    "category": "Memory Optimized",
    "gpuNum": 0,
    "hideHardwareSpecs": false,
    "memoryGiB": 768,
    "name": "ml.r5.24xlarge",
    "vcpuNum": 96
   },
   {
    "_defaultOrder": 47,
    "_isFastLaunch": false,
    "category": "Accelerated computing",
    "gpuNum": 1,
    "hideHardwareSpecs": false,
    "memoryGiB": 16,
    "name": "ml.g5.xlarge",
    "vcpuNum": 4
   },
   {
    "_defaultOrder": 48,
    "_isFastLaunch": false,
    "category": "Accelerated computing",
    "gpuNum": 1,
    "hideHardwareSpecs": false,
    "memoryGiB": 32,
    "name": "ml.g5.2xlarge",
    "vcpuNum": 8
   },
   {
    "_defaultOrder": 49,
    "_isFastLaunch": false,
    "category": "Accelerated computing",
    "gpuNum": 1,
    "hideHardwareSpecs": false,
    "memoryGiB": 64,
    "name": "ml.g5.4xlarge",
    "vcpuNum": 16
   },
   {
    "_defaultOrder": 50,
    "_isFastLaunch": false,
    "category": "Accelerated computing",
    "gpuNum": 1,
    "hideHardwareSpecs": false,
    "memoryGiB": 128,
    "name": "ml.g5.8xlarge",
    "vcpuNum": 32
   },
   {
    "_defaultOrder": 51,
    "_isFastLaunch": false,
    "category": "Accelerated computing",
    "gpuNum": 1,
    "hideHardwareSpecs": false,
    "memoryGiB": 256,
    "name": "ml.g5.16xlarge",
    "vcpuNum": 64
   },
   {
    "_defaultOrder": 52,
    "_isFastLaunch": false,
    "category": "Accelerated computing",
    "gpuNum": 4,
    "hideHardwareSpecs": false,
    "memoryGiB": 192,
    "name": "ml.g5.12xlarge",
    "vcpuNum": 48
   },
   {
    "_defaultOrder": 53,
    "_isFastLaunch": false,
    "category": "Accelerated computing",
    "gpuNum": 4,
    "hideHardwareSpecs": false,
    "memoryGiB": 384,
    "name": "ml.g5.24xlarge",
    "vcpuNum": 96
   },
   {
    "_defaultOrder": 54,
    "_isFastLaunch": false,
    "category": "Accelerated computing",
    "gpuNum": 8,
    "hideHardwareSpecs": false,
    "memoryGiB": 768,
    "name": "ml.g5.48xlarge",
    "vcpuNum": 192
   },
   {
    "_defaultOrder": 55,
    "_isFastLaunch": false,
    "category": "Accelerated computing",
    "gpuNum": 8,
    "hideHardwareSpecs": false,
    "memoryGiB": 1152,
    "name": "ml.p4d.24xlarge",
    "vcpuNum": 96
   },
   {
    "_defaultOrder": 56,
    "_isFastLaunch": false,
    "category": "Accelerated computing",
    "gpuNum": 8,
    "hideHardwareSpecs": false,
    "memoryGiB": 1152,
    "name": "ml.p4de.24xlarge",
    "vcpuNum": 96
   }
  ],
  "instance_type": "ml.t3.medium",
  "kernelspec": {
   "name": "python3",
   "language": "python",
   "display_name": "Python 3 (ipykernel)"
  },
  "language_info": {
   "codemirror_mode": {
    "name": "ipython",
    "version": 3
   },
   "file_extension": ".py",
   "mimetype": "text/x-python",
   "name": "python",
   "nbconvert_exporter": "python",
   "pygments_lexer": "ipython3",
   "version": "3.10.12"
  }
 },
 "nbformat": 4,
 "nbformat_minor": 5
}
